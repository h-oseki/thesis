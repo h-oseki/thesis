{
 "cells": [
  {
   "cell_type": "code",
   "execution_count": 543,
   "metadata": {},
   "outputs": [],
   "source": [
    "import os\n",
    "import csv\n",
    "import subprocess as sub\n",
    "#Me ubico en el directorio que quiero \n",
    "os.chdir('/home/hoseki/Desktop/Sysbio/cSTING/rot_cgamp/production/hbonds') \n",
    "#En el directorio debo tener la lista de residuos que quiero analizar.\n",
    "#El archivo debe tener los residuos uno abajo del otro, de la forma NNN, sin ningun otro caracter.\n",
    "\n",
    "#Armo la lista con los residuos que se van a analizar.\n",
    "a=open(\"res20.txt\", \"r\")\n",
    "a1 = a.readlines()\n",
    "a.close()\n",
    "resid=list()\n",
    "for x in a1:\n",
    "    resid.append((x.split(\"\\n\"))[0])\n",
    "resid.pop(0)\n",
    "\n",
    "#Tambien debo tener la estructura y las trayectorias.\n",
    "#aa_ref = \"3\"\n",
    "estructura = \"cerrada-lig-rot.gro\" #nombre del archivo de la estructura\n",
    "trayectoria = \"cerrada-lig-rot.xtc\" #nomrbre del archivo de la trayectoria"
   ]
  },
  {
   "cell_type": "code",
   "execution_count": 544,
   "metadata": {},
   "outputs": [],
   "source": [
    "#Creo el script para el primer analisis de puentes de hidrogeno. \n",
    "scr = open(\"hb1.tcl\", \"w\") \n",
    "scr.write(\"mol new \"+estructura+\" type {gro} first 0 last -1 step 1 waitfor 1 \\n\")\n",
    "scr.write(\"mol addfile \"+trayectoria+\" type {xtc} first 0 last -1 step 1 waitfor 2503 0 \\n\")\n",
    "scr.write(\"\\n\")\n",
    "scr.write(\"#using hbonds package\\n\")\n",
    "scr.write(\"package require hbonds\\n\")\n",
    "scr.write(\"\\n\")\n",
    "for x in resid:\n",
    "    scr.write('set sel1 [atomselect top \"resid '+str(x)+'\"]\\n')\n",
    "    scr.write('set sel2 [atomselect top \"all and not resid '+str(x)+'\"]\\n')\n",
    "    scr.write('hbonds -sel1 $sel1 -sel2 $sel2 -dist 3.5 -ang 30 -writefile yes -plot no -outfile hbonds'+x+'.dat -polar yes -type all -detailout hbonds-details'+x+'.dat -frames 500:2500 \\n')\n",
    "    scr.write(\"\\n\")\n",
    "scr.write(\"exit\")\n",
    "scr.close()"
   ]
  },
  {
   "cell_type": "code",
   "execution_count": 545,
   "metadata": {
    "scrolled": true
   },
   "outputs": [
    {
     "data": {
      "text/plain": [
       "0"
      ]
     },
     "execution_count": 545,
     "metadata": {},
     "output_type": "execute_result"
    }
   ],
   "source": [
    "sub.call([\"vmd\", \"-startup\", \"hb1.tcl\"]) "
   ]
  },
  {
   "cell_type": "code",
   "execution_count": 546,
   "metadata": {},
   "outputs": [],
   "source": [
    "#Diccionario donde las keys son los residuos que fueron maximos locales, y los values van a ser los \n",
    "#residuos con los que estos hagan puentes de hidrogeno. \n",
    "hbonds = dict()\n",
    "aa = (\"ALA\",\"ARG\",\"ASN\",\"ASP\",\"CYS\", \"GLN\",\"GLY\",\"GLU\",\"HIS\",\"ILE\",\"LEU\",\"LYS\",\"MET\",\"PHE\",\"PRO\",\"SER\",\"THR\",\"TRP\",\"TYR\",\"VAL\",\"1SY\")\n",
    "for i in resid:\n",
    "    val = list()\n",
    "    #A partir de aca lee el archivo detail.dat\n",
    "    fin = open(\"hbonds-details\"+i+\".dat\", \"rt\")\n",
    "    data = fin.read()\n",
    "    #data = data.replace(aa, '') ##tengo que ver como manejar esto \n",
    "    for x in aa:\n",
    "        data = data.replace(str(x),'')\n",
    "    fin.close()\n",
    "    fin = open(\"hbonds-details\"+i+\".dat\", \"wt\")\n",
    "    fin.write(data)\n",
    "    fin.close()\n",
    "    f=open(\"hbonds-details\"+i+\".dat\", \"r\")\n",
    "    f1 = f.readlines()\n",
    "    f.close()\n",
    "    for j in range(len(f1)):\n",
    "        if j > 1:\n",
    "            g = f1[j].split(\"\\t \")\n",
    "            b = [ entry.split('-') for entry in g ]\n",
    "            if b[0][0]!= i: \n",
    "                val.append(b[0][0])\n",
    "            else:\n",
    "                val.append(b[1][0]) \n",
    "    hbonds.update({i: val})"
   ]
  },
  {
   "cell_type": "code",
   "execution_count": 547,
   "metadata": {},
   "outputs": [],
   "source": [
    "#Creo el script para el segundo analisis de puentes de hidrogeno. \n",
    "hb_oc = dict()\n",
    "aux = ()\n",
    "\n",
    "scr2 = open(\"hb2.tcl\", \"w\") \n",
    "scr2.write(\"mol new \"+estructura+\" type {gro} first 0 last -1 step 1 waitfor 1 \\n\")\n",
    "scr2.write(\"mol addfile \"+trayectoria+\" type {xtc} first 0 last -1 step 1 waitfor 2502 0 \\n\")\n",
    "scr2.write(\"\\n\")\n",
    "scr2.write(\"\\n\")\n",
    "scr2.write(\"#using hbonds package\\n\")\n",
    "scr2.write(\"package require hbonds\\n\")\n",
    "scr2.write(\"\\n\")\n",
    "\n",
    "\n",
    "for i in hbonds:\n",
    "  reslist = hbonds[i]\n",
    "  for j in range(len(reslist)):\n",
    "    aux = (i, reslist[j])\n",
    "    hb_oc.update({aux:0})\n",
    "    scr2.write('set sel1 [atomselect top \"resid '+i+'\"]\\n')\n",
    "    scr2.write('set sel2 [atomselect top \"resid '+reslist[j]+'\"]\\n')\n",
    "    scr2.write(\"hbonds -sel1 $sel1 -sel2 $sel2 -dist 3.5 -ang 30 -writefile yes -plot no -outfile hbonds\"+i+\"-\"+reslist[j]+\".dat -polar yes -type all -detailout hbonds-details\"+i+\"-\"+reslist[j]+\".dat -frames 500:2500\\n\")\n",
    "    \n",
    "scr2.write(\"exit\")\n",
    "scr2.close()"
   ]
  },
  {
   "cell_type": "code",
   "execution_count": 548,
   "metadata": {},
   "outputs": [
    {
     "data": {
      "text/plain": [
       "0"
      ]
     },
     "execution_count": 548,
     "metadata": {},
     "output_type": "execute_result"
    }
   ],
   "source": [
    "sub.call([\"vmd\", \"-startup\", \"hb2.tcl\"]) "
   ]
  },
  {
   "cell_type": "code",
   "execution_count": 549,
   "metadata": {},
   "outputs": [],
   "source": [
    "#Escribo en un archivo la lista de puentes de hidrogeno \n",
    "new = open(\"hbonds_res.txt\", \"a\")\n",
    "new.write(\"Donor\\tAceptor\\tOcupación (%)\\n\")\n",
    "for i in hb_oc:\n",
    "    h=open(\"hbonds-details\"+i[0]+\"-\"+i[1]+\".dat\", \"r\")\n",
    "    h1 = h.readlines()\n",
    "    h.close()\n",
    "    for x in range(len(h1)):\n",
    "        if x > 1:\n",
    "            new.write(h1[x])\n",
    "new.close()"
   ]
  },
  {
   "cell_type": "code",
   "execution_count": 550,
   "metadata": {},
   "outputs": [],
   "source": [
    "os.remove('hb1.tcl')\n",
    "os.remove('hb2.tcl')"
   ]
  },
  {
   "cell_type": "code",
   "execution_count": 551,
   "metadata": {},
   "outputs": [
    {
     "data": {
      "text/html": [
       "<div>\n",
       "<style scoped>\n",
       "    .dataframe tbody tr th:only-of-type {\n",
       "        vertical-align: middle;\n",
       "    }\n",
       "\n",
       "    .dataframe tbody tr th {\n",
       "        vertical-align: top;\n",
       "    }\n",
       "\n",
       "    .dataframe thead th {\n",
       "        text-align: right;\n",
       "    }\n",
       "</style>\n",
       "<table border=\"1\" class=\"dataframe\">\n",
       "  <thead>\n",
       "    <tr style=\"text-align: right;\">\n",
       "      <th></th>\n",
       "      <th>Donor</th>\n",
       "      <th>Aceptor</th>\n",
       "      <th>Ocupación (%)</th>\n",
       "    </tr>\n",
       "  </thead>\n",
       "  <tbody>\n",
       "    <tr>\n",
       "      <th>0</th>\n",
       "      <td>GLU151-Main</td>\n",
       "      <td>VAL147-Main</td>\n",
       "      <td>22.89%</td>\n",
       "    </tr>\n",
       "    <tr>\n",
       "      <th>1</th>\n",
       "      <td>SER150-Main</td>\n",
       "      <td>VAL147-Main</td>\n",
       "      <td>1.00%</td>\n",
       "    </tr>\n",
       "    <tr>\n",
       "      <th>2</th>\n",
       "      <td>SER150-Side</td>\n",
       "      <td>VAL147-Main</td>\n",
       "      <td>0.35%</td>\n",
       "    </tr>\n",
       "    <tr>\n",
       "      <th>3</th>\n",
       "      <td>LEU152-Main</td>\n",
       "      <td>GLU148-Main</td>\n",
       "      <td>54.17%</td>\n",
       "    </tr>\n",
       "    <tr>\n",
       "      <th>4</th>\n",
       "      <td>GLU151-Main</td>\n",
       "      <td>GLU148-Main</td>\n",
       "      <td>12.14%</td>\n",
       "    </tr>\n",
       "    <tr>\n",
       "      <th>...</th>\n",
       "      <td>...</td>\n",
       "      <td>...</td>\n",
       "      <td>...</td>\n",
       "    </tr>\n",
       "    <tr>\n",
       "      <th>2912</th>\n",
       "      <td>GLN539-Main</td>\n",
       "      <td>GLN538-Side</td>\n",
       "      <td>0.85%</td>\n",
       "    </tr>\n",
       "    <tr>\n",
       "      <th>2913</th>\n",
       "      <td>GLN539-Side</td>\n",
       "      <td>GLN538-Main</td>\n",
       "      <td>1.00%</td>\n",
       "    </tr>\n",
       "    <tr>\n",
       "      <th>2914</th>\n",
       "      <td>GLN538-Side</td>\n",
       "      <td>GLN539-Side</td>\n",
       "      <td>0.20%</td>\n",
       "    </tr>\n",
       "    <tr>\n",
       "      <th>2915</th>\n",
       "      <td>GLN538-Main</td>\n",
       "      <td>GLN539-Side</td>\n",
       "      <td>0.05%</td>\n",
       "    </tr>\n",
       "    <tr>\n",
       "      <th>2953</th>\n",
       "      <td>ARG440-Side</td>\n",
       "      <td>1SY540-Side</td>\n",
       "      <td>26.84%</td>\n",
       "    </tr>\n",
       "  </tbody>\n",
       "</table>\n",
       "<p>1559 rows × 3 columns</p>\n",
       "</div>"
      ],
      "text/plain": [
       "             Donor        Aceptor Ocupación (%)\n",
       "0     GLU151-Main    VAL147-Main         22.89%\n",
       "1     SER150-Main    VAL147-Main          1.00%\n",
       "2     SER150-Side    VAL147-Main          0.35%\n",
       "3     LEU152-Main    GLU148-Main         54.17%\n",
       "4     GLU151-Main    GLU148-Main         12.14%\n",
       "...            ...            ...           ...\n",
       "2912  GLN539-Main    GLN538-Side          0.85%\n",
       "2913  GLN539-Side    GLN538-Main          1.00%\n",
       "2914  GLN538-Side    GLN539-Side          0.20%\n",
       "2915  GLN538-Main    GLN539-Side          0.05%\n",
       "2953  ARG440-Side    1SY540-Side         26.84%\n",
       "\n",
       "[1559 rows x 3 columns]"
      ]
     },
     "execution_count": 551,
     "metadata": {},
     "output_type": "execute_result"
    }
   ],
   "source": [
    "import pandas as pd \n",
    "data = pd.read_csv(\"hbonds_res.txt\", sep=\"\\t\")\n",
    "data\n",
    "data.drop_duplicates().to_csv(\"hbonds_res.csv\")\n",
    "data.drop_duplicates()"
   ]
  }
 ],
 "metadata": {
  "kernelspec": {
   "display_name": "Python 3",
   "language": "python",
   "name": "python3"
  },
  "language_info": {
   "codemirror_mode": {
    "name": "ipython",
    "version": 3
   },
   "file_extension": ".py",
   "mimetype": "text/x-python",
   "name": "python",
   "nbconvert_exporter": "python",
   "pygments_lexer": "ipython3",
   "version": "3.7.6"
  }
 },
 "nbformat": 4,
 "nbformat_minor": 4
}
