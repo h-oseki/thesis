{
 "cells": [
  {
   "cell_type": "code",
   "execution_count": 1,
   "metadata": {},
   "outputs": [],
   "source": [
    "import os\n",
    "import csv\n",
    "import subprocess as sub\n",
    "os.chdir('/home/hoseki/Desktop/Sysbio/cSTING/corridas restringidas/CERRADA_LIGANDO/NO_FIT') \n",
    "estructura = \"6nt7_holo_rest_nofit.gro\" #nombre del archivo de la estructura\n",
    "trayectoria = \"500ns_NpT_6nt7_holo_anc_res_nojump.xtc\" #nomrbre del archivo de la trayectoria"
   ]
  },
  {
   "cell_type": "code",
   "execution_count": 16,
   "metadata": {},
   "outputs": [],
   "source": [
    "scr = open(\"align.tcl\", \"w\") \n",
    "#scr.write(\"mol new \"+estructura+\" type {gro} first 0 last -1 step 1 waitfor 1 \\n\")\n",
    "#scr.write(\"mol addfile \"+trayectoria+\" type {xtc} first 0 last -1 step 1 waitfor 2503 0 \\n\")\n",
    "#scr.write(\"\\n\")\n",
    "scr.write(\"#using Orient package\\n\")\n",
    "scr.write(\"package require Orient\\n\")\n",
    "scr.write(\"namespace import Orient::orient\\n\")\n",
    "scr.write(\"\\n\")\n",
    "scr.write('set file [open \"pri_ax.dat\" w]\\n')\n",
    "scr.write(\"\\n\")\n",
    "for x in range(2502):\n",
    "    scr.write('set sel'+str(x)+' [atomselect top \"all\" frame '+str(x)+']\\n')\n",
    "    scr.write('set I'+str(x)+' [draw principalaxes $sel'+str(x)+']\\n')\n",
    "    scr.write('puts $file $I'+str(x)+' \\n')\n",
    "scr.write(\"close $file \\n\")\n",
    "#scr.write(\"exit\")\n",
    "scr.close()"
   ]
  },
  {
   "cell_type": "code",
   "execution_count": 9,
   "metadata": {},
   "outputs": [
    {
     "data": {
      "text/plain": [
       "0"
      ]
     },
     "execution_count": 9,
     "metadata": {},
     "output_type": "execute_result"
    }
   ],
   "source": [
    "sub.call([\"vmd\", \"-startup\", \"align.tcl\"]) "
   ]
  },
  {
   "cell_type": "code",
   "execution_count": null,
   "metadata": {},
   "outputs": [],
   "source": [
    "    scr.write('set A'+str(x)+' [orient $sel'+str(x)+' [lindex $I'+str(x)+' 1] {0 1 0}]\\n')\n",
    "    scr.write('$sel'+str(x)+' move $A'+str(x)+'\\n')\n",
    "    scr.write('set I'+str(x)+' [draw principalaxes $sel'+str(x)+']\\n')"
   ]
  },
  {
   "cell_type": "code",
   "execution_count": null,
   "metadata": {},
   "outputs": [],
   "source": [
    "set file [open \"pri_ax.dat\" w]\n",
    "for {set x 0} {$x <= 27} {incr x}{\n",
    "    puts $file [$I]\n",
    "}"
   ]
  }
 ],
 "metadata": {
  "kernelspec": {
   "display_name": "Python 3",
   "language": "python",
   "name": "python3"
  },
  "language_info": {
   "codemirror_mode": {
    "name": "ipython",
    "version": 3
   },
   "file_extension": ".py",
   "mimetype": "text/x-python",
   "name": "python",
   "nbconvert_exporter": "python",
   "pygments_lexer": "ipython3",
   "version": "3.7.6"
  }
 },
 "nbformat": 4,
 "nbformat_minor": 4
}
